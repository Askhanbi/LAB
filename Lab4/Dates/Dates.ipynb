{
 "cells": [
  {
   "cell_type": "code",
   "execution_count": 1,
   "id": "159ebd24",
   "metadata": {},
   "outputs": [
    {
     "name": "stdout",
     "output_type": "stream",
     "text": [
      "2025-02-11 20:22:26.552576\n"
     ]
    }
   ],
   "source": [
    "import datetime\n",
    "\n",
    "x = datetime.datetime.now()\n",
    "print(x)"
   ]
  },
  {
   "cell_type": "code",
   "execution_count": 2,
   "id": "4aefc71f",
   "metadata": {},
   "outputs": [
    {
     "name": "stdout",
     "output_type": "stream",
     "text": [
      "2025\n",
      "Tuesday\n"
     ]
    }
   ],
   "source": [
    "import datetime\n",
    "\n",
    "x = datetime.datetime.now()\n",
    "\n",
    "print(x.year)\n",
    "print(x.strftime(\"%A\"))"
   ]
  },
  {
   "cell_type": "code",
   "execution_count": 3,
   "id": "8c75fc22",
   "metadata": {},
   "outputs": [
    {
     "name": "stdout",
     "output_type": "stream",
     "text": [
      "2020-05-17 00:00:00\n"
     ]
    }
   ],
   "source": [
    "import datetime\n",
    "x = datetime.datetime(2020, 5, 17)\n",
    "\n",
    "print(x)"
   ]
  },
  {
   "cell_type": "code",
   "execution_count": 4,
   "id": "9366a7ab",
   "metadata": {},
   "outputs": [
    {
     "name": "stdout",
     "output_type": "stream",
     "text": [
      "June\n"
     ]
    }
   ],
   "source": [
    "import datetime\n",
    " \n",
    "x = datetime.datetime(2018, 6, 1)\n",
    "\n",
    "print(x.strftime(\"%B\"))"
   ]
  },
  {
   "cell_type": "code",
   "execution_count": 5,
   "id": "816ac5ab",
   "metadata": {},
   "outputs": [
    {
     "data": {
      "text/plain": [
       "'\\n%a\\tWeekday, short version\\tWed\\t\\n%A\\tWeekday, full version\\tWednesday\\t\\n%w\\tWeekday as a number 0-6, 0 is Sunday\\t3\\t\\n%d\\tDay of month 01-31\\t31\\t\\n%b\\tMonth name, short version\\tDec\\t\\n%B\\tMonth name, full version\\tDecember\\t\\n%m\\tMonth as a number 01-12\\t12\\t\\n%y\\tYear, short version, without century\\t18\\t\\n%Y\\tYear, full version\\t2018\\t\\n%H\\tHour 00-23\\t17\\t\\n%I\\tHour 00-12\\t05\\t\\n%p\\tAM/PM\\tPM\\t\\n%M\\tMinute 00-59\\t41\\t\\n%S\\tSecond 00-59\\t08\\t\\n%f\\tMicrosecond 000000-999999\\t548513\\t\\n%z\\tUTC offset\\t+0100\\t\\n%Z\\tTimezone\\tCST\\t\\n%j\\tDay number of year 001-366\\t365\\t\\n%U\\tWeek number of year, Sunday as the first day of week, 00-53\\t52\\t\\n%W\\tWeek number of year, Monday as the first day of week, 00-53\\t52\\t\\n%c\\tLocal version of date and time\\tMon Dec 31 17:41:00 2018\\t\\n%C\\tCentury\\t20\\t\\n%x\\tLocal version of date\\t12/31/18\\t\\n%X\\tLocal version of time\\t17:41:00\\t\\n%%\\tA % character\\t%\\t\\n%G\\tISO 8601 year\\t2018\\t\\n%u\\tISO 8601 weekday (1-7)\\t1\\t\\n%V\\tISO 8601 weeknumber (01-53)\\t01\\n\\n'"
      ]
     },
     "execution_count": 5,
     "metadata": {},
     "output_type": "execute_result"
    }
   ],
   "source": [
    "\"\"\"\n",
    "%a\tWeekday, short version\tWed\t\n",
    "%A\tWeekday, full version\tWednesday\t\n",
    "%w\tWeekday as a number 0-6, 0 is Sunday\t3\t\n",
    "%d\tDay of month 01-31\t31\t\n",
    "%b\tMonth name, short version\tDec\t\n",
    "%B\tMonth name, full version\tDecember\t\n",
    "%m\tMonth as a number 01-12\t12\t\n",
    "%y\tYear, short version, without century\t18\t\n",
    "%Y\tYear, full version\t2018\t\n",
    "%H\tHour 00-23\t17\t\n",
    "%I\tHour 00-12\t05\t\n",
    "%p\tAM/PM\tPM\t\n",
    "%M\tMinute 00-59\t41\t\n",
    "%S\tSecond 00-59\t08\t\n",
    "%f\tMicrosecond 000000-999999\t548513\t\n",
    "%z\tUTC offset\t+0100\t\n",
    "%Z\tTimezone\tCST\t\n",
    "%j\tDay number of year 001-366\t365\t\n",
    "%U\tWeek number of year, Sunday as the first day of week, 00-53\t52\t\n",
    "%W\tWeek number of year, Monday as the first day of week, 00-53\t52\t\n",
    "%c\tLocal version of date and time\tMon Dec 31 17:41:00 2018\t\n",
    "%C\tCentury\t20\t\n",
    "%x\tLocal version of date\t12/31/18\t\n",
    "%X\tLocal version of time\t17:41:00\t\n",
    "%%\tA % character\t%\t\n",
    "%G\tISO 8601 year\t2018\t\n",
    "%u\tISO 8601 weekday (1-7)\t1\t\n",
    "%V\tISO 8601 weeknumber (01-53)\t01\n",
    "\n",
    "\"\"\"\n"
   ]
  },
  {
   "cell_type": "code",
   "execution_count": 6,
   "id": "32449467",
   "metadata": {},
   "outputs": [
    {
     "name": "stdout",
     "output_type": "stream",
     "text": [
      "Tue\n"
     ]
    }
   ],
   "source": [
    "# %a\n",
    "\n",
    "import datetime\n",
    "\n",
    "x = datetime.datetime.now()\n",
    "\n",
    "print(x.strftime(\"%a\"))"
   ]
  },
  {
   "cell_type": "code",
   "execution_count": 7,
   "id": "377077d6",
   "metadata": {},
   "outputs": [
    {
     "name": "stdout",
     "output_type": "stream",
     "text": [
      "Tuesday\n"
     ]
    }
   ],
   "source": [
    "# %A\n",
    "\n",
    "import datetime\n",
    "\n",
    "x = datetime.datetime.now()\n",
    "\n",
    "print(x.strftime(\"%A\"))\n"
   ]
  },
  {
   "cell_type": "code",
   "execution_count": 8,
   "id": "2f0d1990",
   "metadata": {},
   "outputs": [
    {
     "name": "stdout",
     "output_type": "stream",
     "text": [
      "2\n"
     ]
    }
   ],
   "source": [
    "# %w\n",
    "\n",
    "import datetime\n",
    "\n",
    "x = datetime.datetime.now()\n",
    "\n",
    "print(x.strftime(\"%w\"))\n"
   ]
  },
  {
   "cell_type": "code",
   "execution_count": 9,
   "id": "a853c053",
   "metadata": {},
   "outputs": [
    {
     "name": "stdout",
     "output_type": "stream",
     "text": [
      "11\n"
     ]
    }
   ],
   "source": [
    "# %d\n",
    "\n",
    "import datetime\n",
    "\n",
    "x = datetime.datetime.now()\n",
    "\n",
    "print(x.strftime(\"%d\"))"
   ]
  },
  {
   "cell_type": "code",
   "execution_count": 10,
   "id": "6e75d714",
   "metadata": {},
   "outputs": [
    {
     "name": "stdout",
     "output_type": "stream",
     "text": [
      "Feb\n"
     ]
    }
   ],
   "source": [
    "# %b\n",
    "\n",
    "import datetime\n",
    "\n",
    "x = datetime.datetime.now()\n",
    "\n",
    "print(x.strftime(\"%b\"))\n"
   ]
  },
  {
   "cell_type": "code",
   "execution_count": 11,
   "id": "09351ed4",
   "metadata": {},
   "outputs": [
    {
     "name": "stdout",
     "output_type": "stream",
     "text": [
      "February\n"
     ]
    }
   ],
   "source": [
    "# %B\n",
    "\n",
    "import datetime\n",
    "\n",
    "x = datetime.datetime.now()\n",
    "\n",
    "print(x.strftime(\"%B\"))\n"
   ]
  },
  {
   "cell_type": "code",
   "execution_count": 12,
   "id": "c17526cf",
   "metadata": {},
   "outputs": [
    {
     "name": "stdout",
     "output_type": "stream",
     "text": [
      "02\n"
     ]
    }
   ],
   "source": [
    "# %m\n",
    "\n",
    "import datetime\n",
    "\n",
    "x = datetime.datetime.now()\n",
    "\n",
    "print(x.strftime(\"%m\"))"
   ]
  },
  {
   "cell_type": "code",
   "execution_count": 13,
   "id": "87dd17f5",
   "metadata": {},
   "outputs": [
    {
     "name": "stdout",
     "output_type": "stream",
     "text": [
      "25\n"
     ]
    }
   ],
   "source": [
    "# %y\n",
    "\n",
    "import datetime\n",
    "\n",
    "x = datetime.datetime.now()\n",
    "\n",
    "print(x.strftime(\"%y\"))"
   ]
  },
  {
   "cell_type": "code",
   "execution_count": 14,
   "id": "b4e53786",
   "metadata": {},
   "outputs": [
    {
     "name": "stdout",
     "output_type": "stream",
     "text": [
      "2025\n"
     ]
    }
   ],
   "source": [
    "# %Y\n",
    "\n",
    "import datetime\n",
    "\n",
    "x = datetime.datetime.now()\n",
    "\n",
    "print(x.strftime(\"%Y\"))\n"
   ]
  },
  {
   "cell_type": "code",
   "execution_count": 15,
   "id": "c98dcc0b",
   "metadata": {},
   "outputs": [
    {
     "name": "stdout",
     "output_type": "stream",
     "text": [
      "20\n"
     ]
    }
   ],
   "source": [
    "# %H\n",
    "\n",
    "import datetime\n",
    "\n",
    "x = datetime.datetime.now()\n",
    "\n",
    "print(x.strftime(\"%H\"))\n"
   ]
  },
  {
   "cell_type": "code",
   "execution_count": 16,
   "id": "f4e41e92",
   "metadata": {},
   "outputs": [
    {
     "name": "stdout",
     "output_type": "stream",
     "text": [
      "08\n"
     ]
    }
   ],
   "source": [
    "# %I\n",
    "\n",
    "import datetime\n",
    "\n",
    "x = datetime.datetime.now()\n",
    "\n",
    "print(x.strftime(\"%I\"))"
   ]
  },
  {
   "cell_type": "code",
   "execution_count": 17,
   "id": "4fad1fc0",
   "metadata": {},
   "outputs": [
    {
     "name": "stdout",
     "output_type": "stream",
     "text": [
      "PM\n"
     ]
    }
   ],
   "source": [
    "# %p\n",
    "\n",
    "import datetime\n",
    "\n",
    "x = datetime.datetime.now()\n",
    "\n",
    "print(x.strftime(\"%p\"))"
   ]
  },
  {
   "cell_type": "code",
   "execution_count": 18,
   "id": "0fd3d708",
   "metadata": {},
   "outputs": [
    {
     "name": "stdout",
     "output_type": "stream",
     "text": [
      "22\n"
     ]
    }
   ],
   "source": [
    "# %M\n",
    "\n",
    "import datetime\n",
    "\n",
    "x = datetime.datetime.now()\n",
    "\n",
    "print(x.strftime(\"%M\"))\n"
   ]
  },
  {
   "cell_type": "code",
   "execution_count": 19,
   "id": "edb3f524",
   "metadata": {},
   "outputs": [
    {
     "name": "stdout",
     "output_type": "stream",
     "text": [
      "26\n"
     ]
    }
   ],
   "source": [
    "# %S\n",
    "\n",
    "import datetime\n",
    "\n",
    "x = datetime.datetime.now()\n",
    "\n",
    "print(x.strftime(\"%S\"))"
   ]
  },
  {
   "cell_type": "code",
   "execution_count": 20,
   "id": "d5b0395e",
   "metadata": {},
   "outputs": [
    {
     "name": "stdout",
     "output_type": "stream",
     "text": [
      "838134\n"
     ]
    }
   ],
   "source": [
    "# %f\n",
    "\n",
    "import datetime\n",
    "\n",
    "x = datetime.datetime.now()\n",
    "\n",
    "print(x.strftime(\"%f\"))\n"
   ]
  },
  {
   "cell_type": "code",
   "execution_count": 21,
   "id": "1a81686b",
   "metadata": {},
   "outputs": [
    {
     "name": "stdout",
     "output_type": "stream",
     "text": [
      "\n"
     ]
    }
   ],
   "source": [
    "# %z\n",
    "\n",
    "import datetime\n",
    "\n",
    "x = datetime.datetime.now()\n",
    "\n",
    "print(x.strftime(\"%z\"))"
   ]
  },
  {
   "cell_type": "code",
   "execution_count": 22,
   "id": "20f2939d",
   "metadata": {},
   "outputs": [
    {
     "name": "stdout",
     "output_type": "stream",
     "text": [
      "\n"
     ]
    }
   ],
   "source": [
    "# %Z\n",
    "\n",
    "import datetime\n",
    "\n",
    "x = datetime.datetime.now()\n",
    "\n",
    "print(x.strftime(\"%Z\"))"
   ]
  },
  {
   "cell_type": "code",
   "execution_count": 23,
   "id": "0aafb1c0",
   "metadata": {},
   "outputs": [
    {
     "name": "stdout",
     "output_type": "stream",
     "text": [
      "042\n"
     ]
    }
   ],
   "source": [
    "# %j\n",
    "\n",
    "import datetime\n",
    "\n",
    "x = datetime.datetime.now()\n",
    "\n",
    "print(x.strftime(\"%j\"))\n"
   ]
  },
  {
   "cell_type": "code",
   "execution_count": 24,
   "id": "b009e2c8",
   "metadata": {},
   "outputs": [
    {
     "name": "stdout",
     "output_type": "stream",
     "text": [
      "06\n"
     ]
    }
   ],
   "source": [
    "# %U\n",
    "\n",
    "import datetime\n",
    "\n",
    "x = datetime.datetime.now()\n",
    "\n",
    "print(x.strftime(\"%U\"))"
   ]
  },
  {
   "cell_type": "code",
   "execution_count": 25,
   "id": "b5e5d411",
   "metadata": {},
   "outputs": [
    {
     "name": "stdout",
     "output_type": "stream",
     "text": [
      "22\n"
     ]
    }
   ],
   "source": [
    "# %W\n",
    "\n",
    "import datetime\n",
    "\n",
    "x = datetime.datetime(2018, 5, 31)\n",
    "\n",
    "print(x.strftime(\"%W\"))\n"
   ]
  },
  {
   "cell_type": "code",
   "execution_count": 26,
   "id": "3359a10c",
   "metadata": {},
   "outputs": [
    {
     "name": "stdout",
     "output_type": "stream",
     "text": [
      "Tue Feb 11 20:22:26 2025\n"
     ]
    }
   ],
   "source": [
    "# %c\n",
    "\n",
    "import datetime\n",
    "\n",
    "x = datetime.datetime.now()\n",
    "\n",
    "print(x.strftime(\"%c\"))"
   ]
  },
  {
   "cell_type": "code",
   "execution_count": 27,
   "id": "5d6c8e67",
   "metadata": {},
   "outputs": [
    {
     "name": "stdout",
     "output_type": "stream",
     "text": [
      "20\n"
     ]
    }
   ],
   "source": [
    "# %C\n",
    "\n",
    "import datetime\n",
    "\n",
    "x = datetime.datetime.now()\n",
    "\n",
    "print(x.strftime(\"%C\"))"
   ]
  },
  {
   "cell_type": "code",
   "execution_count": 28,
   "id": "0b7ee752",
   "metadata": {},
   "outputs": [
    {
     "name": "stdout",
     "output_type": "stream",
     "text": [
      "02/11/25\n"
     ]
    }
   ],
   "source": [
    "# %x\n",
    "\n",
    "import datetime\n",
    "\n",
    "x = datetime.datetime.now()\n",
    "\n",
    "print(x.strftime(\"%x\"))\n"
   ]
  },
  {
   "cell_type": "code",
   "execution_count": 29,
   "id": "6c66687c",
   "metadata": {},
   "outputs": [
    {
     "name": "stdout",
     "output_type": "stream",
     "text": [
      "20:22:26\n"
     ]
    }
   ],
   "source": [
    "# %X\n",
    "\n",
    "import datetime\n",
    "\n",
    "x = datetime.datetime.now()\n",
    "\n",
    "print(x.strftime(\"%X\"))"
   ]
  },
  {
   "cell_type": "code",
   "execution_count": 30,
   "id": "d3e4b0c2",
   "metadata": {},
   "outputs": [
    {
     "name": "stdout",
     "output_type": "stream",
     "text": [
      "%\n"
     ]
    }
   ],
   "source": [
    "# %%\n",
    "\n",
    "import datetime\n",
    "\n",
    "x = datetime.datetime.now()\n",
    "\n",
    "print(x.strftime(\"%%\"))"
   ]
  },
  {
   "cell_type": "code",
   "execution_count": 31,
   "id": "268491ba",
   "metadata": {},
   "outputs": [
    {
     "name": "stdout",
     "output_type": "stream",
     "text": [
      "2025\n"
     ]
    }
   ],
   "source": [
    "# %G\n",
    "\n",
    "import datetime\n",
    "\n",
    "x = datetime.datetime.now()\n",
    "\n",
    "print(x.strftime(\"%G\"))\n"
   ]
  },
  {
   "cell_type": "code",
   "execution_count": 32,
   "id": "938b5476",
   "metadata": {},
   "outputs": [
    {
     "name": "stdout",
     "output_type": "stream",
     "text": [
      "2\n"
     ]
    }
   ],
   "source": [
    "# %u\n",
    "\n",
    "import datetime\n",
    "\n",
    "x = datetime.datetime.now()\n",
    "\n",
    "print(x.strftime(\"%u\"))"
   ]
  },
  {
   "cell_type": "code",
   "execution_count": 33,
   "id": "eedcd345",
   "metadata": {},
   "outputs": [
    {
     "name": "stdout",
     "output_type": "stream",
     "text": [
      "07\n"
     ]
    }
   ],
   "source": [
    "# %V\n",
    "\n",
    "import datetime\n",
    "\n",
    "x = datetime.datetime.now()\n",
    "\n",
    "print(x.strftime(\"%V\"))\n"
   ]
  }
 ],
 "metadata": {
  "kernelspec": {
   "display_name": "base",
   "language": "python",
   "name": "python3"
  },
  "language_info": {
   "codemirror_mode": {
    "name": "ipython",
    "version": 3
   },
   "file_extension": ".py",
   "mimetype": "text/x-python",
   "name": "python",
   "nbconvert_exporter": "python",
   "pygments_lexer": "ipython3",
   "version": "3.12.7"
  }
 },
 "nbformat": 4,
 "nbformat_minor": 5
}
