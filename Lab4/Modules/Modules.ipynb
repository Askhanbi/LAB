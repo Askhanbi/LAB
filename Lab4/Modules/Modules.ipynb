{
 "cells": [
  {
   "cell_type": "code",
   "execution_count": 3,
   "id": "ca7c98a0",
   "metadata": {},
   "outputs": [],
   "source": [
    "def greeting(name):\n",
    "    print(\"Hello, \" + name)"
   ]
  },
  {
   "cell_type": "code",
   "execution_count": null,
   "id": "b0ff4978",
   "metadata": {},
   "outputs": [
    {
     "ename": "ModuleNotFoundError",
     "evalue": "No module named 'mymodule'",
     "output_type": "error",
     "traceback": [
      "\u001b[1;31m---------------------------------------------------------------------------\u001b[0m",
      "\u001b[1;31mModuleNotFoundError\u001b[0m                       Traceback (most recent call last)",
      "Cell \u001b[1;32mIn[4], line 1\u001b[0m\n\u001b[1;32m----> 1\u001b[0m \u001b[38;5;28;01mimport\u001b[39;00m \u001b[38;5;21;01mmymodule\u001b[39;00m\n\u001b[0;32m      3\u001b[0m mymodule\u001b[38;5;241m.\u001b[39mgreeting(\u001b[38;5;124m\"\u001b[39m\u001b[38;5;124mJonathan\u001b[39m\u001b[38;5;124m\"\u001b[39m)\n",
      "\u001b[1;31mModuleNotFoundError\u001b[0m: No module named 'mymodule'"
     ]
    }
   ],
   "source": [
    "import mymodule\n",
    "\n",
    "mymodule.greeting(\"Jonathan\")\n",
    "\n",
    "# Hello, Jonathan"
   ]
  },
  {
   "cell_type": "code",
   "execution_count": null,
   "id": "62b6bfaf",
   "metadata": {},
   "outputs": [],
   "source": [
    "person1 = {\n",
    "    \"name\": \"John\",\n",
    "    \"age\" : 36,\n",
    "    \"country\" : \"Norway\"\n",
    "}\n",
    "\n",
    "#"
   ]
  },
  {
   "cell_type": "code",
   "execution_count": null,
   "id": "1216a8ab",
   "metadata": {},
   "outputs": [],
   "source": [
    "import mymodule\n",
    "\n",
    "a = mymodule.person1[\"age\"]\n",
    "print(a)\n",
    "\n",
    "#  36"
   ]
  },
  {
   "cell_type": "code",
   "execution_count": null,
   "id": "af20b277",
   "metadata": {},
   "outputs": [],
   "source": [
    "import mymodule as mx\n",
    "\n",
    "a = mx.person1[\"age\"]\n",
    "print(a)\n",
    "\n",
    "#  36"
   ]
  },
  {
   "cell_type": "code",
   "execution_count": null,
   "id": "a9acf9f2",
   "metadata": {},
   "outputs": [],
   "source": [
    "import platform\n",
    "\n",
    "x = platform.system()\n",
    "print(x)\n",
    "\n",
    "# Windows"
   ]
  },
  {
   "cell_type": "code",
   "execution_count": null,
   "id": "97c85dcd",
   "metadata": {},
   "outputs": [],
   "source": [
    "import platform\n",
    "\n",
    "x = dir(platform)\n",
    "print(x)\n",
    "\n",
    "# ['DEV_NULL', '_UNIXCONFDIR', 'WIN32_CLIENT_RELEASES', 'WIN32_SERVER_RELEASES', '__builtins__', '__cached__', '__copyright__', '__doc__', '__file__', '__loader__', '__name__', '__package __', '__spec__', '__version__', '_default_architecture', '_dist_try_harder', '_follow_symlinks', '_ironpython26_sys_version_parser', '_ironpython_sys_version_parser', '_java_getprop', '_libc_search', '_linux_distribution', '_lsb_release_version', '_mac_ver_xml', '_node', '_norm_version', '_perse_release_file', '_platform', '_platform_cache', '_pypy_sys_version_parser', '_release_filename', '_release_version', '_supported_dists', '_sys_version', '_sys_version_cache', '_sys_version_parser', '_syscmd_file', '_syscmd_uname', '_syscmd_ver', '_uname_cache', '_ver_output', 'architecture', 'collections', 'dist', 'java_ver', 'libc_ver', 'linux_distribution', 'mac_ver', 'machine', 'node', 'os', 'platform', 'popen', 'processor', 'python_branch', 'python_build', 'python_compiler', 'python_implementation', 'python_revision', 'python_version', 'python_version_tuple', 're', 'release', 'subprocess', 'sys', 'system', 'system_aliases', 'uname', 'uname_result', 'version', 'warnings', 'win32_ver']"
   ]
  },
  {
   "cell_type": "code",
   "execution_count": null,
   "id": "4b4231d9",
   "metadata": {},
   "outputs": [],
   "source": [
    "def greeting(name):\n",
    "    print(\"Hello, \" + name)\n",
    "\n",
    "person1 = {\n",
    "    \"name\": \"John\",\n",
    "    \"age\" : 36,\n",
    "    \"country\" : \"Norway\"\n",
    "}"
   ]
  },
  {
   "cell_type": "code",
   "execution_count": null,
   "id": "8259fbae",
   "metadata": {},
   "outputs": [],
   "source": [
    "from mymodule import person1\n",
    "\n",
    "print(person1[\"age\"])\n",
    "\n",
    "#  36"
   ]
  }
 ],
 "metadata": {
  "kernelspec": {
   "display_name": "base",
   "language": "python",
   "name": "python3"
  },
  "language_info": {
   "codemirror_mode": {
    "name": "ipython",
    "version": 3
   },
   "file_extension": ".py",
   "mimetype": "text/x-python",
   "name": "python",
   "nbconvert_exporter": "python",
   "pygments_lexer": "ipython3",
   "version": "3.12.7"
  }
 },
 "nbformat": 4,
 "nbformat_minor": 5
}
